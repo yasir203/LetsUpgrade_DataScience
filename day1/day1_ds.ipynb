{
 "cells": [
  {
   "cell_type": "markdown",
   "metadata": {},
   "source": [
    "Yasir Manzoor Itoo\n",
    "# Question 1:\n"
   ]
  },
  {
   "cell_type": "markdown",
   "metadata": {},
   "source": [
    "Given the following jumbled word, OBANWRI guess the correct English word. \n",
    "\n",
    "A.RANIBOW  \n",
    "B.RAINBOW  \n",
    "C.BOWRANI  \n",
    "D.ROBWANI"
   ]
  },
  {
   "cell_type": "markdown",
   "metadata": {},
   "source": [
    "## Answer:  RAINBOW"
   ]
  },
  {
   "cell_type": "markdown",
   "metadata": {},
   "source": [
    "# Question 2:\n"
   ]
  },
  {
   "cell_type": "markdown",
   "metadata": {},
   "source": [
    "Write a program which prints “LETS UPGRADE”. (Please note that you have toprint in ALL CAPS as given)"
   ]
  },
  {
   "cell_type": "code",
   "execution_count": 1,
   "metadata": {},
   "outputs": [
    {
     "name": "stdout",
     "output_type": "stream",
     "text": [
      "LETS UPGRADE\n"
     ]
    }
   ],
   "source": [
    "inpt = \"lets upgrade\"\n",
    "print(inpt.upper())"
   ]
  },
  {
   "cell_type": "markdown",
   "metadata": {},
   "source": [
    "# Question 3:\n"
   ]
  },
  {
   "cell_type": "markdown",
   "metadata": {},
   "source": [
    "Write a program that takes cost price and selling price as input and displays whether the transaction is aProfit or a Loss or Neither.INPUT FORMATThe first line contains the cost price.The second line contains the selling price.OUTPUT FORMATPrint \"Profit\" if the transaction is a profit or \"Loss\" if it is a loss. If it is neitherprofit nor loss, print \"Neither\". "
   ]
  },
  {
   "cell_type": "code",
   "execution_count": 10,
   "metadata": {},
   "outputs": [
    {
     "name": "stdout",
     "output_type": "stream",
     "text": [
      "11\n",
      "12\n",
      "\"Profit\"\n",
      "profit =  1.0\n"
     ]
    }
   ],
   "source": [
    "cp = float(input())\n",
    "sp = float(input())\n",
    "if (cp < sp):\n",
    "    print (\"\\\"Profit\\\"\")\n",
    "    print(\"profit = \", sp - cp)\n",
    "elif (cp > sp):\n",
    "    print (\"\\\"Loss\\\"\")\n",
    "    print(\"loss = \",cp - sp)\n",
    "elif(cp == sp):\n",
    "    print (\"\\\"Neither\\\"\")\n",
    "else:\n",
    "    print(\"error...try again\")"
   ]
  },
  {
   "cell_type": "markdown",
   "metadata": {},
   "source": [
    "# Question 4:"
   ]
  },
  {
   "cell_type": "markdown",
   "metadata": {},
   "source": [
    "Write a program that takes an amount in Euros as input. You need to find its equivalent in\n",
    "Rupees and display it. Assume 1 Euro equals Rs. 80.\n",
    "Please note that you are expected to stick to the given input and output\n",
    "format as in sample test cases. Please don't add any extra lines such as\n",
    "'Enter a number', etc.\n",
    "Your program should take only one number as input and display the output"
   ]
  },
  {
   "cell_type": "code",
   "execution_count": 11,
   "metadata": {},
   "outputs": [
    {
     "name": "stdout",
     "output_type": "stream",
     "text": [
      "50\n",
      "4000.0\n"
     ]
    }
   ],
   "source": [
    "euro = float(input())\n",
    "print(euro*80) #1Euro = 80Rs"
   ]
  }
 ],
 "metadata": {
  "kernelspec": {
   "display_name": "Python 3",
   "language": "python",
   "name": "python3"
  },
  "language_info": {
   "codemirror_mode": {
    "name": "ipython",
    "version": 3
   },
   "file_extension": ".py",
   "mimetype": "text/x-python",
   "name": "python",
   "nbconvert_exporter": "python",
   "pygments_lexer": "ipython3",
   "version": "3.7.6"
  }
 },
 "nbformat": 4,
 "nbformat_minor": 4
}
